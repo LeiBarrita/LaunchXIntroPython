{
 "cells": [
  {
   "cell_type": "markdown",
   "metadata": {},
   "source": [
    "# Ejercicio 1"
   ]
  },
  {
   "cell_type": "code",
   "execution_count": 27,
   "metadata": {},
   "outputs": [],
   "source": [
    "def report(tank1, tank2, tank3):\n",
    "    average = (tank1 + tank2 + tank3) / 3\n",
    "    return f\"Tank 1: {tank1} \\nTank 2: {tank2} \\nTank 3: {tank3} \\nAverage: {average}\""
   ]
  },
  {
   "cell_type": "code",
   "execution_count": 28,
   "metadata": {},
   "outputs": [
    {
     "name": "stdout",
     "output_type": "stream",
     "text": [
      "Tank 1: 80 \n",
      "Tank 2: 70 \n",
      "Tank 3: 85 \n",
      "Average: 78.33333333333333\n"
     ]
    }
   ],
   "source": [
    "print(report(80, 70, 85))"
   ]
  },
  {
   "cell_type": "code",
   "execution_count": 29,
   "metadata": {},
   "outputs": [],
   "source": [
    "def getAverage(value1, value2, value3):\n",
    "    return ((value1 + value2 + value3) / 3)"
   ]
  },
  {
   "cell_type": "code",
   "execution_count": 30,
   "metadata": {},
   "outputs": [],
   "source": [
    "def report(tank1, tank2, tank3):\n",
    "    average = getAverage(tank1, tank2, tank3)\n",
    "    return f\"Tank 1: {tank1} \\nTank 2: {tank2} \\nTank 3: {tank3} \\nAverage: {average}\""
   ]
  },
  {
   "cell_type": "code",
   "execution_count": 31,
   "metadata": {},
   "outputs": [
    {
     "name": "stdout",
     "output_type": "stream",
     "text": [
      "Tank 1: 80 \n",
      "Tank 2: 70 \n",
      "Tank 3: 85 \n",
      "Average: 78.33333333333333\n"
     ]
    }
   ],
   "source": [
    "print(report(80, 70, 85))"
   ]
  },
  {
   "cell_type": "markdown",
   "metadata": {},
   "source": [
    "# Ejercicio 2"
   ]
  },
  {
   "cell_type": "code",
   "execution_count": 32,
   "metadata": {},
   "outputs": [
    {
     "name": "stdout",
     "output_type": "stream",
     "text": [
      "Time: 65 \n",
      "Destination: Moon \n",
      "External Tank: 200000 \n",
      "Internal Tank: 300000\n"
     ]
    }
   ],
   "source": [
    "def detailedReport(launchTime, flyTime, destiny, exTank, inTank):\n",
    "    return f\"Time: {launchTime + flyTime} \\nDestination: {destiny} \\nExternal Tank: {exTank} \\nInternal Tank: {inTank}\"\n",
    "\n",
    "print(detailedReport(14, 51, \"Moon\", 200000, 300000))"
   ]
  },
  {
   "cell_type": "code",
   "execution_count": 33,
   "metadata": {},
   "outputs": [
    {
     "name": "stdout",
     "output_type": "stream",
     "text": [
      "Time: 65 \n",
      "Destination: Moon \n",
      "Tolal in Tanks: 500000\n"
     ]
    }
   ],
   "source": [
    "def detailedReport2(destiny, *times, **tanks):\n",
    "    return f\"Time: {sum(times)} \\nDestination: {destiny} \\nTotal in Tanks: {sum(tanks.values())}\"\n",
    "\n",
    "print(detailedReport2(\"Moon\", 14, 51, tank1 = 200000, tank2 = 300000))\n"
   ]
  },
  {
   "cell_type": "code",
   "execution_count": 38,
   "metadata": {},
   "outputs": [
    {
     "name": "stdout",
     "output_type": "stream",
     "text": [
      "Time: 65 \n",
      "Destination: Moon \n",
      "Total in Tanks: 500000\n",
      "tank1 tank has 200000 gallons left\n",
      "tank2 tank has 300000 gallons left\n",
      "\n"
     ]
    }
   ],
   "source": [
    "def detailedReport3(destiny, *times, **tanks):\n",
    "    report = f\"Time: {sum(times)} \\nDestination: {destiny} \\nTotal in Tanks: {sum(tanks.values())}\\n\"\n",
    "    for tank, gallons in tanks.items():\n",
    "        report += f\"{tank} tank has {gallons} gallons left\\n\"\n",
    "    return report\n",
    "\n",
    "print(detailedReport3(\"Moon\", 14, 51, tank1 = 200000, tank2 = 300000))\n"
   ]
  }
 ],
 "metadata": {
  "interpreter": {
   "hash": "23a6c80658c028ecb2766483cf6d7023499f0e233a07b0354d43c0021bb0b820"
  },
  "kernelspec": {
   "display_name": "Python 3.9.10 64-bit (windows store)",
   "language": "python",
   "name": "python3"
  },
  "language_info": {
   "codemirror_mode": {
    "name": "ipython",
    "version": 3
   },
   "file_extension": ".py",
   "mimetype": "text/x-python",
   "name": "python",
   "nbconvert_exporter": "python",
   "pygments_lexer": "ipython3",
   "version": "3.9.10"
  },
  "orig_nbformat": 4
 },
 "nbformat": 4,
 "nbformat_minor": 2
}
