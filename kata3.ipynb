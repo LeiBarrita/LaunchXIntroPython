{
 "cells": [
  {
   "cell_type": "markdown",
   "metadata": {},
   "source": [
    "# Ejercicio 1"
   ]
  },
  {
   "cell_type": "code",
   "execution_count": 16,
   "metadata": {},
   "outputs": [
    {
     "name": "stdout",
     "output_type": "stream",
     "text": [
      "Warning! Asteroid Coming!\n"
     ]
    }
   ],
   "source": [
    "asteroid = 49\n",
    "warningSpeed = 25\n",
    "if  asteroid >= warningSpeed:\n",
    "    print(\"Warning! Asteroid Coming!\")\n",
    "else:\n",
    "    print(\"Friendly Asteroid\")"
   ]
  },
  {
   "cell_type": "markdown",
   "metadata": {},
   "source": [
    "# Ejercicio 2"
   ]
  },
  {
   "cell_type": "code",
   "execution_count": 17,
   "metadata": {},
   "outputs": [
    {
     "name": "stdout",
     "output_type": "stream",
     "text": [
      "Asteroid not visible\n"
     ]
    }
   ],
   "source": [
    "asteroid = 19\n",
    "shinyAsteroid = 20\n",
    "if asteroid >= shinyAsteroid:\n",
    "    print(\"The asteroid will shine!\")\n",
    "else:\n",
    "    print(\"Asteroid not visible\")"
   ]
  },
  {
   "cell_type": "markdown",
   "metadata": {},
   "source": [
    "# Ejercicio 3"
   ]
  },
  {
   "cell_type": "code",
   "execution_count": 18,
   "metadata": {},
   "outputs": [
    {
     "name": "stdout",
     "output_type": "stream",
     "text": [
      "Big Rock Approaching!\n"
     ]
    }
   ],
   "source": [
    "asteroidSize = 70\n",
    "asteroidSpeed = 21\n",
    "\n",
    "warningSpeed = 25\n",
    "shinyAsteroid = 20\n",
    "dangerSize = 25\n",
    "if asteroidSize > dangerSize:\n",
    "    print(\"Big Rock Approaching!\")\n",
    "elif asteroidSpeed > warningSpeed:\n",
    "    print(\"Warning! Fast Asteroid Approaching!\")\n",
    "elif asteroidSpeed >= shinyAsteroid:\n",
    "    print(\"An Asteroid Will Shine\")\n",
    "else:\n",
    "    print(\"Asteroid won't be visible\")"
   ]
  }
 ],
 "metadata": {
  "interpreter": {
   "hash": "23a6c80658c028ecb2766483cf6d7023499f0e233a07b0354d43c0021bb0b820"
  },
  "kernelspec": {
   "display_name": "Python 3.9.10 64-bit (windows store)",
   "language": "python",
   "name": "python3"
  },
  "language_info": {
   "codemirror_mode": {
    "name": "ipython",
    "version": 3
   },
   "file_extension": ".py",
   "mimetype": "text/x-python",
   "name": "python",
   "nbconvert_exporter": "python",
   "pygments_lexer": "ipython3",
   "version": "3.9.10"
  },
  "orig_nbformat": 4
 },
 "nbformat": 4,
 "nbformat_minor": 2
}
